{
 "cells": [
  {
   "cell_type": "code",
   "execution_count": 1,
   "id": "babbfc35",
   "metadata": {},
   "outputs": [],
   "source": [
    "%load_ext autoreload\n",
    "%autoreload 2\n",
    "\n",
    "import torch\n",
    "import numpy as np\n",
    "from sklearn.model_selection import train_test_split\n",
    "from torch_geometric.datasets import TUDataset\n",
    "from torch_geometric.utils.convert import to_networkx\n",
    "from toponetx.classes.simplicial_complex import SimplicialComplex\n",
    "\n",
    "from topomodelx.nn.hypergraph.unisage import UniSAGE\n",
    "import warnings\n",
    "\n",
    "warnings.filterwarnings(\"ignore\")"
   ]
  },
  {
   "cell_type": "markdown",
   "id": "b7251cc4",
   "metadata": {},
   "source": [
    "# Train a Uni-sage TNN"
   ]
  },
  {
   "cell_type": "markdown",
   "id": "35742145",
   "metadata": {},
   "source": [
    "# Pre-processing\n",
    "\n",
    "## Import data ##\n",
    "\n",
    "The first step is to import the dataset, MUTAG, a benchmark dataset for graph classification. We then lift each graph into our domain of choice, a hypergraph.\n",
    "\n",
    "We will also retrieve:\n",
    "- input signal on the edges for each of these hypergraphs, as that will be what we feed the model in input\n",
    "- the binary label associated to the hypergraph"
   ]
  },
  {
   "cell_type": "code",
   "execution_count": 2,
   "id": "b9e6b0d0",
   "metadata": {},
   "outputs": [],
   "source": [
    "dataset = TUDataset(root=\"/tmp/MUTAG\", name=\"MUTAG\", use_edge_attr=True)\n",
    "dataset = dataset[:100]\n",
    "hg_list = []\n",
    "x_1_list = []\n",
    "y_list = []\n",
    "for graph in dataset:\n",
    "    hg = SimplicialComplex(to_networkx(graph)).to_hypergraph()\n",
    "    hg_list.append(hg)\n",
    "    x_1_list.append(graph.x)\n",
    "    y_list.append(int(graph.y))\n",
    "\n",
    "incidence_1_list = []\n",
    "for hg in hg_list:\n",
    "    incidence_1 = hg.incidence_matrix()\n",
    "    incidence_1 = torch.from_numpy(incidence_1.todense()).to_sparse_csr()\n",
    "    incidence_1_list.append(incidence_1)"
   ]
  },
  {
   "cell_type": "markdown",
   "id": "b8e0ce65",
   "metadata": {},
   "source": [
    "# Create the Neural Network\n",
    "\n",
    "Using the UniSAGELayer class, we create a neural network with stacked layers."
   ]
  },
  {
   "cell_type": "code",
   "execution_count": 3,
   "id": "4e133a18",
   "metadata": {},
   "outputs": [],
   "source": [
    "channels_edge = x_1_list[0].shape[1]\n",
    "channels_node = dataset[0].x.shape[1]\n",
    "model = UniSAGE(channels_edge, channels_node, n_layers=2)"
   ]
  },
  {
   "cell_type": "markdown",
   "id": "e8129a5f",
   "metadata": {},
   "source": [
    "# Train the Neural Network\n",
    "\n",
    "We specify the model, the loss, and an optimizer."
   ]
  },
  {
   "cell_type": "code",
   "execution_count": 4,
   "id": "89ae1cce",
   "metadata": {},
   "outputs": [],
   "source": [
    "optimizer = torch.optim.Adam(model.parameters(), lr=1e-2)\n",
    "crit = torch.nn.BCELoss()"
   ]
  },
  {
   "cell_type": "markdown",
   "id": "d8b51d10",
   "metadata": {},
   "source": [
    "Split the dataset into train, val, and test sets."
   ]
  },
  {
   "cell_type": "code",
   "execution_count": 5,
   "id": "1973b46e",
   "metadata": {},
   "outputs": [],
   "source": [
    "x_1_train, x_1_test = train_test_split(x_1_list, test_size=0.2, shuffle=False)\n",
    "incidence_1_train, incidence_1_test = train_test_split(\n",
    "    incidence_1_list, test_size=0.2, shuffle=False\n",
    ")\n",
    "y_train, y_test = train_test_split(y_list, test_size=0.2, shuffle=False)\n",
    "\n",
    "x_1_train, x_1_val = train_test_split(x_1_train, test_size=0.2, shuffle=False)\n",
    "incidence_1_train, incidence_1_val = train_test_split(\n",
    "    incidence_1_train, test_size=0.2, shuffle=False\n",
    ")\n",
    "y_train, y_val = train_test_split(y_train, test_size=0.2, shuffle=False)"
   ]
  },
  {
   "cell_type": "markdown",
   "id": "de215a24",
   "metadata": {},
   "source": [
    "The following cell performs the training, looping over the network for a low amount of epochs. We keep training minimal for the purpose of rapid testing."
   ]
  },
  {
   "cell_type": "code",
   "execution_count": 6,
   "id": "3b1397b5",
   "metadata": {},
   "outputs": [
    {
     "name": "stdout",
     "output_type": "stream",
     "text": [
      "Epoch 0 loss: 46.11848068237305\n",
      "Epoch 0 Validation accuracy: 0.5625\n",
      "Epoch 1 loss: 38.48760986328125\n",
      "Epoch 1 Validation accuracy: 0.5625\n",
      "Epoch 2 loss: 35.41103744506836\n",
      "Epoch 2 Validation accuracy: 0.5625\n",
      "Epoch 3 loss: 35.46265411376953\n",
      "Epoch 3 Validation accuracy: 0.5625\n",
      "Epoch 4 loss: 36.654991149902344\n",
      "Epoch 4 Validation accuracy: 0.5625\n",
      "Epoch 5 loss: 37.48741149902344\n",
      "Epoch 5 Validation accuracy: 0.5625\n",
      "Epoch 6 loss: 37.493499755859375\n",
      "Epoch 6 Validation accuracy: 0.5625\n",
      "Epoch 7 loss: 36.90041732788086\n",
      "Epoch 7 Validation accuracy: 0.5625\n",
      "Epoch 8 loss: 36.03223419189453\n",
      "Epoch 8 Validation accuracy: 0.5625\n",
      "Epoch 9 loss: 35.20775604248047\n",
      "Epoch 9 Validation accuracy: 0.5625\n",
      "Epoch 10 loss: 34.63990020751953\n",
      "Epoch 10 Validation accuracy: 0.5625\n",
      "Epoch 11 loss: 34.34232711791992\n",
      "Epoch 11 Validation accuracy: 0.5625\n",
      "Epoch 12 loss: 34.30369567871094\n",
      "Epoch 12 Validation accuracy: 0.5625\n",
      "Epoch 13 loss: 34.4339485168457\n",
      "Epoch 13 Validation accuracy: 0.5625\n",
      "Epoch 14 loss: 34.60327911376953\n",
      "Epoch 14 Validation accuracy: 0.5625\n",
      "Epoch 15 loss: 34.69844055175781\n",
      "Epoch 15 Validation accuracy: 0.5625\n",
      "Epoch 16 loss: 34.66060256958008\n",
      "Epoch 16 Validation accuracy: 0.5625\n",
      "Epoch 17 loss: 34.48517990112305\n",
      "Epoch 17 Validation accuracy: 0.5625\n",
      "Epoch 18 loss: 34.20755386352539\n",
      "Epoch 18 Validation accuracy: 0.5625\n",
      "Epoch 19 loss: 33.90876007080078\n",
      "Epoch 19 Validation accuracy: 0.5625\n",
      "Epoch 20 loss: 33.64041519165039\n",
      "Epoch 20 Validation accuracy: 0.5625\n",
      "Epoch 21 loss: 33.4536018371582\n",
      "Epoch 21 Validation accuracy: 0.5625\n",
      "Epoch 22 loss: 33.356746673583984\n",
      "Epoch 22 Validation accuracy: 0.5625\n",
      "Epoch 23 loss: 33.32301712036133\n",
      "Epoch 23 Validation accuracy: 0.5625\n",
      "Epoch 24 loss: 33.31113052368164\n",
      "Epoch 24 Validation accuracy: 0.5625\n",
      "Epoch 25 loss: 33.28101348876953\n",
      "Epoch 25 Validation accuracy: 0.5625\n",
      "Epoch 26 loss: 33.19704818725586\n",
      "Epoch 26 Validation accuracy: 0.5625\n",
      "Epoch 27 loss: 33.05533218383789\n",
      "Epoch 27 Validation accuracy: 0.5625\n",
      "Epoch 28 loss: 32.8785400390625\n",
      "Epoch 28 Validation accuracy: 0.5625\n",
      "Epoch 29 loss: 32.683712005615234\n",
      "Epoch 29 Validation accuracy: 0.5625\n",
      "Epoch 30 loss: 32.50434875488281\n",
      "Epoch 30 Validation accuracy: 0.5625\n",
      "Epoch 31 loss: 32.371429443359375\n",
      "Epoch 31 Validation accuracy: 0.5625\n",
      "Epoch 32 loss: 32.28118133544922\n",
      "Epoch 32 Validation accuracy: 0.5625\n",
      "Epoch 33 loss: 32.21925735473633\n",
      "Epoch 33 Validation accuracy: 0.5625\n",
      "Epoch 34 loss: 32.157997131347656\n",
      "Epoch 34 Validation accuracy: 0.5625\n",
      "Epoch 35 loss: 32.07044219970703\n",
      "Epoch 35 Validation accuracy: 0.5625\n",
      "Epoch 36 loss: 31.944950103759766\n",
      "Epoch 36 Validation accuracy: 0.5625\n",
      "Epoch 37 loss: 31.793039321899414\n",
      "Epoch 37 Validation accuracy: 0.5625\n",
      "Epoch 38 loss: 31.64575958251953\n",
      "Epoch 38 Validation accuracy: 0.5625\n",
      "Epoch 39 loss: 31.5272216796875\n",
      "Epoch 39 Validation accuracy: 0.5625\n",
      "Epoch 40 loss: 31.440631866455078\n",
      "Epoch 40 Validation accuracy: 0.5625\n",
      "Epoch 41 loss: 31.375879287719727\n",
      "Epoch 41 Validation accuracy: 0.5625\n",
      "Epoch 42 loss: 31.311176300048828\n",
      "Epoch 42 Validation accuracy: 0.5625\n",
      "Epoch 43 loss: 31.22810173034668\n",
      "Epoch 43 Validation accuracy: 0.5625\n",
      "Epoch 44 loss: 31.12361717224121\n",
      "Epoch 44 Validation accuracy: 0.5625\n",
      "Epoch 45 loss: 31.010883331298828\n",
      "Epoch 45 Validation accuracy: 0.5625\n",
      "Epoch 46 loss: 30.924745559692383\n",
      "Epoch 46 Validation accuracy: 0.5625\n",
      "Epoch 47 loss: 30.86925506591797\n",
      "Epoch 47 Validation accuracy: 0.5625\n",
      "Epoch 48 loss: 30.828832626342773\n",
      "Epoch 48 Validation accuracy: 0.5625\n",
      "Epoch 49 loss: 30.78775405883789\n",
      "Epoch 49 Validation accuracy: 0.5625\n",
      "Test accuracy: 0.8\n"
     ]
    }
   ],
   "source": [
    "num_epochs = 50\n",
    "for epoch in range(num_epochs):\n",
    "    model.train()\n",
    "    optimizer.zero_grad()\n",
    "    loss = 0\n",
    "    for x_1, incidence_1, y in zip(x_1_train, incidence_1_train, y_train):\n",
    "        output = model(x_1, incidence_1)\n",
    "        loss += crit(output, torch.tensor([y]).float())\n",
    "    loss.backward()\n",
    "    optimizer.step()\n",
    "    print(f\"Epoch {epoch} loss: {loss.item()}\")\n",
    "    model.eval()\n",
    "    with torch.no_grad():\n",
    "        correct = 0\n",
    "        for x_1, incidence_1, y in zip(x_1_val, incidence_1_val, y_val):\n",
    "            output = model(x_1, incidence_1)\n",
    "            pred = output > 0.5\n",
    "            if pred == y:\n",
    "                correct += 1\n",
    "        print(f\"Epoch {epoch} Validation accuracy: {correct / len(y_val)}\")\n",
    "\n",
    "model.eval()\n",
    "with torch.no_grad():\n",
    "    correct = 0\n",
    "    for x_1, incidence_1, y in zip(x_1_test, incidence_1_test, y_test):\n",
    "        output = model(x_1, incidence_1)\n",
    "        pred = output > 0.5\n",
    "        if pred == y:\n",
    "            correct += 1\n",
    "    print(f\"Test accuracy: {correct / len(y_test)}\")"
   ]
  }
 ],
 "metadata": {
  "kernelspec": {
   "display_name": "Python 3 (ipykernel)",
   "language": "python",
   "name": "python3"
  },
  "language_info": {
   "codemirror_mode": {
    "name": "ipython",
    "version": 3
   },
   "file_extension": ".py",
   "mimetype": "text/x-python",
   "name": "python",
   "nbconvert_exporter": "python",
   "pygments_lexer": "ipython3",
   "version": "3.11.3"
  }
 },
 "nbformat": 4,
 "nbformat_minor": 5
}
