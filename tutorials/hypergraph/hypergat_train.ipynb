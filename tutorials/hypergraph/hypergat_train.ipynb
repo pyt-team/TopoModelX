{
 "cells": [
  {
   "attachments": {},
   "cell_type": "markdown",
   "metadata": {},
   "source": [
    "# Train a Hypergraph Neural Network\n",
    "\n",
    "In this notebook, we will create and train a two-step message passing network **HyperGAT** ([Ding et al., 2020](https://aclanthology.org/2020.emnlp-main.399.pdf)) in the hypergraph domain. We will use a benchmark dataset, shrec16, a collection of 3D meshes, to train the model to perform classification at the level of the hypergraph. \n",
    "\n",
    "Given a hypergraph $G=(\\mathcal{V}, \\mathcal{E})$, where $|\\mathcal{V}|=n, |\\mathcal{V}|=m$, let $X \\in \\mathbb{R}^{n \\times d}$ and $Z \\in \\mathbb{R}^{m \\times d'}$ denote the hidden node and hyperedge representations, respectively. \n",
    "\n",
    "🟥 $\\quad m_{y \\rightarrow z}^{(0 \\rightarrow 1) } = (B^T_1\\odot att(h_{y \\in \\mathcal{B}(z)}^{t,(0)}))\\_{zy} \\cdot h^{t,(0)}y \\cdot \\Theta^{t,(0)}$ \n",
    "\n",
    "🟧 $\\quad m_z^{(1)} = \\sigma(\\sum_{y \\in \\mathcal{B}(z)} m_{y \\rightarrow z}^{(0 \\rightarrow 1)})$ \n",
    "\n",
    "🟥 $\\quad m_{z \\rightarrow x}^{(1 \\rightarrow 0)}  = (B_1 \\odot att(h_{z \\in \\mathcal{C}(x)}^{t,(1)}))\\_{xz} \\cdot m_{z}^{(1)} \\cdot \\Theta^{t,(1)}$ \n",
    "\n",
    "🟧 $\\quad m_{x}^{(0)}  = \\sum_{z \\in \\mathcal{C}(x)} m_{z \\rightarrow x}^{(1\\rightarrow0)}$ \n",
    "\n",
    "🟩 $\\quad m_x = m_{x}^{(0)}$ \n",
    "\n",
    "🟦 $\\quad h_x^{t+1, (0)} = \\sigma(m_x)$\n",
    "\n",
    "Given a specific node  $\\mathcal{v}_{i}$ , HyperGAT layer first learns the representations of all its connected hyperedges $\\mathcal{E}_{i}$ . As not all the nodes in a hyperedge  $\\mathcal{e}_{j} \\in \\mathcal{E}_{i}$ contribute equally to the hyperedge meaning, we introduce attention mechanism (i.e., node-level attention) to highlight those nodes that are important to the meaning of the hyperedge and then aggregate them to compute the hyperedge representation $\\mathcal{f}_{j}^{l}$. Formally:\n",
    "\n",
    "$$ \\mathcal{f}_{j}^{l} = \\sigma (\\sum_{\\mathcal{u}_{k} \\in \\mathcal{e}_{j}} \\alpha_{jk} \\mathcal{W}_{1} \n",
    "\\mathcal{h}_{k}^{l-1})  $$\n",
    "\n",
    "where $\\sigma$ is the nonlinearity such as ReLU and $\\mathcal{W}_{1}$ is a trainable weight matrix. $\\alpha_{jk}$ denotes the attention coefficient of node $\\mathcal{v}_{k}$ in the hyperedge $\\mathcal{e}_{j}$ , which can be computed by:\n",
    "\n",
    "$$ \\alpha_{jk} = \\frac{\\operatorname{exp}(a_{1}^{T}u_{k})}{\\sum\\limits_{\\mathcal{u}_{p} \\in \\mathcal{e}_{j}} \\operatorname{exp}(a_{1}^{T}u_{p})} $$\n",
    "\n",
    "where $a_{1}^{T}$ is a weight vector (a.k.a, context vector).\n",
    "\n",
    "Edge-level Attention. With all the hyperedges representations $ \\left\\{ \\mathcal{f}_{j}^{l}| \\forall{\\mathcal{e}_{j}} \\in \\mathcal{E}_{i}  \\right\\}$, we again apply an edge-level attention mechanism to highlight the informative hyperedges for learning the next-layer representation of node vi . This process can be formally expressed as:\n",
    "\n",
    "$$ \\mathcal{h}_{i}^{l} = \\sigma (\\sum_{\\mathcal{e}_{j} \\in \\mathcal{E}_{i}} \\beta_{ij} \\mathcal{W}_{2} \\mathcal{f}_{j}^{l})  $$\n",
    "\n",
    "where $\\mathcal{h}_{i}^{l}$ is the output representation of node $\\mathcal{v}_{i}$ and $\\mathcal{W}_{2}$ is a weight matrix. $\\beta_{ij}$ denotes the attention coefficient of hyperedge $\\mathcal{e}_{j}$ on node $\\mathcal{v}_{i}$ , which can be computed by:\n",
    "\n",
    "$$ \\beta_{ij} = \\frac{\\operatorname{exp}(a_{2}^{T}v_{j})}{\\sum\\limits_{\\mathcal{e}_{p} \\in \\mathcal{E}_{i}} \\operatorname{exp}(a_{2}^{T}v_{p})} $$\n",
    "\n",
    "$$ \\mathcal{v}_{j} = \\operatorname{LeakyRELU} ([ \\mathcal{W}_{2}\\mathcal{f}_{j}^{l} || \\mathcal{W}_{1}\\mathcal{h}_{i}^{l-1}  ]) $$\n",
    "\n",
    "where $\\mathcal{a}_{2}^{T}$ is another weight (context) vector for measuring the importance of the hyperedges and || is the concatenation operation.\n",
    "    "
   ]
  },
  {
   "cell_type": "code",
   "execution_count": 1,
   "metadata": {},
   "outputs": [],
   "source": [
    "import torch\n",
    "import numpy as np\n",
    "import toponetx.datasets as datasets\n",
    "from sklearn.model_selection import train_test_split\n",
    "\n",
    "from topomodelx.nn.hypergraph.hypergat import HyperGAT"
   ]
  },
  {
   "cell_type": "code",
   "execution_count": 2,
   "metadata": {},
   "outputs": [
    {
     "name": "stdout",
     "output_type": "stream",
     "text": [
      "cpu\n"
     ]
    }
   ],
   "source": [
    "device = torch.device(\"cuda\" if torch.cuda.is_available() else \"cpu\")\n",
    "print(device)"
   ]
  },
  {
   "cell_type": "markdown",
   "metadata": {},
   "source": [
    "# Pre-processing\n",
    "\n",
    "## Import data ##\n",
    "\n",
    "The first step is to import the dataset, shrec 16, a benchmark dataset for 3D mesh classification. We then lift each graph into our domain of choice, a hypergraph.\n",
    "\n",
    "We will also retrieve:\n",
    "- input signal on the edges for each of these hypergraphs, as that will be what we feed the model in input\n",
    "- the label associated to the hypergraph"
   ]
  },
  {
   "cell_type": "code",
   "execution_count": 3,
   "metadata": {},
   "outputs": [
    {
     "name": "stdout",
     "output_type": "stream",
     "text": [
      "Loading shrec 16 small dataset...\n",
      "\n",
      "done!\n"
     ]
    }
   ],
   "source": [
    "shrec, _ = datasets.mesh.shrec_16(size=\"small\")\n",
    "\n",
    "shrec = {key: np.array(value) for key, value in shrec.items()}\n",
    "x_0s = shrec[\"node_feat\"]\n",
    "x_1s = shrec[\"edge_feat\"]\n",
    "x_2s = shrec[\"face_feat\"]\n",
    "\n",
    "ys = shrec[\"label\"]\n",
    "simplexes = shrec[\"complexes\"]"
   ]
  },
  {
   "cell_type": "code",
   "execution_count": 4,
   "metadata": {},
   "outputs": [
    {
     "name": "stdout",
     "output_type": "stream",
     "text": [
      "The 6th simplicial complex has 252 nodes with features of dimension 6.\n",
      "The 6th simplicial complex has 750 edges with features of dimension 10.\n",
      "The 6th simplicial complex has 500 faces with features of dimension 7.\n"
     ]
    }
   ],
   "source": [
    "i_complex = 6\n",
    "print(\n",
    "    f\"The {i_complex}th simplicial complex has {x_0s[i_complex].shape[0]} nodes with features of dimension {x_0s[i_complex].shape[1]}.\"\n",
    ")\n",
    "print(\n",
    "    f\"The {i_complex}th simplicial complex has {x_1s[i_complex].shape[0]} edges with features of dimension {x_1s[i_complex].shape[1]}.\"\n",
    ")\n",
    "print(\n",
    "    f\"The {i_complex}th simplicial complex has {x_2s[i_complex].shape[0]} faces with features of dimension {x_2s[i_complex].shape[1]}.\"\n",
    ")"
   ]
  },
  {
   "cell_type": "markdown",
   "metadata": {},
   "source": [
    "## Define neighborhood structures and lift into hypergraph domain. ##\n",
    "\n",
    "Now we retrieve the neighborhood structures (i.e. their representative matrices) that we will use to send messges on each simplicial complex. In the case of this architecture, we need the boundary matrix (or incidence matrix) $B_1$ with shape $n_\\text{nodes} \\times n_\\text{edges}$.\n",
    "\n",
    "Once we have recorded the incidence matrix (note that all incidence amtrices in the hypergraph domain must be unsigned), we lift each simplicial complex into a hypergraph. The pairwise edges will become pairwise hyperedges, and faces in the simplciial complex will become 3-wise hyperedges."
   ]
  },
  {
   "cell_type": "code",
   "execution_count": 5,
   "metadata": {},
   "outputs": [],
   "source": [
    "hg_list = []\n",
    "incidence_1_list = []\n",
    "for simplex in simplexes:\n",
    "    incidence_1 = simplex.incidence_matrix(rank=1, signed=False)\n",
    "    hg = simplex.to_hypergraph()\n",
    "    hg_list.append(hg)\n",
    "\n",
    "# Extract hypergraphs incident matrices from collected hypergraphs\n",
    "for hg in hg_list:\n",
    "    incidence_1 = hg.incidence_matrix()\n",
    "    incidence_1 = torch.from_numpy(incidence_1.todense()).to_sparse()\n",
    "    incidence_1_list.append(incidence_1)"
   ]
  },
  {
   "cell_type": "code",
   "execution_count": 6,
   "metadata": {},
   "outputs": [
    {
     "name": "stdout",
     "output_type": "stream",
     "text": [
      "The 6th hypergraph has an incidence matrix of shape torch.Size([252, 1250]).\n"
     ]
    }
   ],
   "source": [
    "i_complex = 6\n",
    "print(\n",
    "    f\"The {i_complex}th hypergraph has an incidence matrix of shape {incidence_1_list[i_complex].shape}.\"\n",
    ")"
   ]
  },
  {
   "cell_type": "markdown",
   "metadata": {},
   "source": [
    "# Train the Neural Network\n",
    "\n",
    "We specify the model, the loss, and an optimizer."
   ]
  },
  {
   "cell_type": "code",
   "execution_count": 7,
   "metadata": {},
   "outputs": [],
   "source": [
    "in_channels = x_0s[0].shape[1]\n",
    "out_dim = 32\n",
    "n_layers = 3\n",
    "\n",
    "# Define the model\n",
    "model = HyperGAT(in_channels=in_channels, out_channels=out_dim, n_layers=n_layers)\n",
    "model = model.to(device)\n",
    "\n",
    "# Optimizer and loss\n",
    "opt = torch.optim.Adam(model.parameters(), lr=0.1)\n",
    "loss_fn = torch.nn.MSELoss()"
   ]
  },
  {
   "cell_type": "code",
   "execution_count": 8,
   "metadata": {},
   "outputs": [],
   "source": [
    "test_size = 0.2\n",
    "x_0_train, x_0_test = train_test_split(x_0s, test_size=test_size, shuffle=False)\n",
    "incidence_1_train, incidence_1_test = train_test_split(\n",
    "    incidence_1_list, test_size=test_size, shuffle=False\n",
    ")\n",
    "y_train, y_test = train_test_split(ys, test_size=test_size, shuffle=False)"
   ]
  },
  {
   "cell_type": "code",
   "execution_count": 9,
   "metadata": {},
   "outputs": [
    {
     "name": "stdout",
     "output_type": "stream",
     "text": [
      "Epoch: 1 loss: 274.6125\n",
      "Test_loss: 529.0000\n",
      "Epoch: 2 loss: 274.6125\n",
      "Test_loss: 529.0000\n",
      "Epoch: 3 loss: 274.6125\n",
      "Test_loss: 529.0000\n",
      "Epoch: 4 loss: 274.6125\n",
      "Test_loss: 529.0000\n",
      "Epoch: 5 loss: 274.6125\n",
      "Test_loss: 529.0000\n"
     ]
    }
   ],
   "source": [
    "test_interval = 1\n",
    "num_epochs = 5\n",
    "for epoch_i in range(1, num_epochs + 1):\n",
    "    epoch_loss = []\n",
    "    model.train()\n",
    "    for x_0, incidence_1, y in zip(x_0_train, incidence_1_train, y_train):\n",
    "        x_0 = torch.tensor(x_0)\n",
    "        x_0, incidence_1, y = (\n",
    "            x_0.float().to(device),\n",
    "            incidence_1.float().to(device),\n",
    "            torch.tensor(y, dtype=torch.float).to(device),\n",
    "        )\n",
    "        opt.zero_grad()\n",
    "        # Extract edge_index from sparse incidence matrix\n",
    "        # edge_index, _ = to_edge_index(incidence_1)\n",
    "        y_hat = model(x_0, incidence_1)\n",
    "        loss = loss_fn(y_hat, y)\n",
    "\n",
    "        loss.backward()\n",
    "        opt.step()\n",
    "        epoch_loss.append(loss.item())\n",
    "\n",
    "    print(\n",
    "        f\"Epoch: {epoch_i} loss: {np.mean(epoch_loss):.4f}\",\n",
    "        flush=True,\n",
    "    )\n",
    "    if epoch_i % test_interval == 0:\n",
    "        with torch.no_grad():\n",
    "            for x_0, incidence_1, y in zip(x_0_test, incidence_1_test, y_test):\n",
    "                x_0 = torch.tensor(x_0)\n",
    "                x_0, incidence_1, y = (\n",
    "                    x_0.float().to(device),\n",
    "                    incidence_1.float().to(device),\n",
    "                    torch.tensor(y, dtype=torch.float).to(device),\n",
    "                )\n",
    "                y_hat = model(x_0, incidence_1)\n",
    "                loss = loss_fn(y_hat, y)\n",
    "\n",
    "            print(f\"Test_loss: {loss:.4f}\", flush=True)"
   ]
  },
  {
   "cell_type": "code",
   "execution_count": null,
   "metadata": {},
   "outputs": [],
   "source": []
  }
 ],
 "metadata": {
  "kernelspec": {
   "display_name": "torchg",
   "language": "python",
   "name": "python3"
  },
  "language_info": {
   "codemirror_mode": {
    "name": "ipython",
    "version": 3
   },
   "file_extension": ".py",
   "mimetype": "text/x-python",
   "name": "python",
   "nbconvert_exporter": "python",
   "pygments_lexer": "ipython3",
   "version": "3.11.3"
  },
  "orig_nbformat": 4
 },
 "nbformat": 4,
 "nbformat_minor": 2
}
