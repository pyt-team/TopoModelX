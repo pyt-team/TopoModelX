{
 "cells": [
  {
   "cell_type": "code",
   "execution_count": 1,
   "metadata": {},
   "outputs": [],
   "source": [
    "import torch\n",
    "import numpy as np\n",
    "from sklearn.model_selection import train_test_split\n",
    "from torch_geometric.datasets import TUDataset\n",
    "from torch_geometric.utils.convert import to_networkx\n",
    "from toponetx.classes.simplicial_complex import SimplicialComplex\n",
    "from topomodelx.nn.hypergraph.unigin import UniGIN"
   ]
  },
  {
   "cell_type": "markdown",
   "metadata": {},
   "source": [
    "# Train a UNIGIN TNN"
   ]
  },
  {
   "attachments": {},
   "cell_type": "markdown",
   "metadata": {},
   "source": [
    "# Pre-processing\n",
    "\n",
    "## Import data ##\n",
    "\n",
    "The first step is to import the dataset, MUTAG, a benchmark dataset for graph classification. We then lift each graph into our domain of choice, a hypergraph.\n",
    "\n",
    "We will also retrieve:\n",
    "- input signal on the nodes for each of these hypergraphs, as that will be what we feed the model in input\n",
    "- the binary label associated to the hypergraph"
   ]
  },
  {
   "cell_type": "code",
   "execution_count": 2,
   "metadata": {},
   "outputs": [],
   "source": [
    "dataset = TUDataset(root=\"/tmp/MUTAG\", name=\"MUTAG\", use_edge_attr=True)\n",
    "dataset = dataset[:100]\n",
    "hg_list = []\n",
    "x_1_list = []\n",
    "y_list = []\n",
    "for graph in dataset:\n",
    "    hg = SimplicialComplex(to_networkx(graph)).to_hypergraph()\n",
    "    hg_list.append(hg)\n",
    "    x_1_list.append(graph.x)\n",
    "    y_list.append(int(graph.y))\n",
    "\n",
    "incidence_1_list = []\n",
    "for hg in hg_list:\n",
    "    incidence_1 = hg.incidence_matrix()\n",
    "    incidence_1 = torch.from_numpy(incidence_1.todense()).to_sparse()\n",
    "    incidence_1_list.append(incidence_1)"
   ]
  },
  {
   "attachments": {},
   "cell_type": "markdown",
   "metadata": {},
   "source": [
    "# Create the Neural Network\n",
    "\n",
    "Using the UniGINLayer class, we create a neural network with stacked layers."
   ]
  },
  {
   "cell_type": "code",
   "execution_count": 3,
   "metadata": {},
   "outputs": [],
   "source": [
    "node_dim = x_1_list[0].shape[1]\n",
    "intermediate_channels = 32\n",
    "out_dim = 2\n",
    "model = UniGIN(\n",
    "    in_channels_node=node_dim,\n",
    "    intermediate_channels=intermediate_channels,\n",
    "    out_channels=out_dim,\n",
    "    n_layers=2,\n",
    ")"
   ]
  },
  {
   "attachments": {},
   "cell_type": "markdown",
   "metadata": {},
   "source": [
    "# Train the Neural Network\n",
    "\n",
    "We specify the model, the loss, and an optimizer."
   ]
  },
  {
   "cell_type": "code",
   "execution_count": 4,
   "metadata": {},
   "outputs": [],
   "source": [
    "optimizer = torch.optim.Adam(model.parameters(), lr=0.001)\n",
    "crit = torch.nn.CrossEntropyLoss()"
   ]
  },
  {
   "attachments": {},
   "cell_type": "markdown",
   "metadata": {},
   "source": [
    "Split the dataset into train, val and test sets."
   ]
  },
  {
   "cell_type": "code",
   "execution_count": 5,
   "metadata": {},
   "outputs": [],
   "source": [
    "x_1_train, x_1_test = train_test_split(x_1_list, test_size=0.2, shuffle=False)\n",
    "incidence_1_train, incidence_1_test = train_test_split(\n",
    "    incidence_1_list, test_size=0.2, shuffle=False\n",
    ")\n",
    "y_train, y_test = train_test_split(y_list, test_size=0.2, shuffle=False)\n",
    "\n",
    "x_1_train, x_1_val = train_test_split(x_1_train, test_size=0.2, shuffle=False)\n",
    "incidence_1_train, incidence_1_val = train_test_split(\n",
    "    incidence_1_train, test_size=0.2, shuffle=False\n",
    ")\n",
    "y_train, y_val = train_test_split(y_train, test_size=0.2, shuffle=False)"
   ]
  },
  {
   "attachments": {},
   "cell_type": "markdown",
   "metadata": {},
   "source": [
    "The below cell trains the model for 50 epochs printing the train loss, and validation accuracy after every epoch. The model is then evaluated on a seperate test-set after training."
   ]
  },
  {
   "cell_type": "code",
   "execution_count": 6,
   "metadata": {},
   "outputs": [
    {
     "name": "stdout",
     "output_type": "stream",
     "text": [
      "Epoch 0 loss: 43.388511657714844\n",
      "Epoch 0 Validation accuracy: 0.5625\n",
      "Epoch 1 loss: 41.726402282714844\n",
      "Epoch 1 Validation accuracy: 0.5625\n",
      "Epoch 2 loss: 40.228939056396484\n",
      "Epoch 2 Validation accuracy: 0.5625\n",
      "Epoch 3 loss: 38.930335998535156\n",
      "Epoch 3 Validation accuracy: 0.5625\n",
      "Epoch 4 loss: 37.89554214477539\n",
      "Epoch 4 Validation accuracy: 0.5625\n",
      "Epoch 5 loss: 37.096839904785156\n",
      "Epoch 5 Validation accuracy: 0.5625\n",
      "Epoch 6 loss: 36.53312301635742\n",
      "Epoch 6 Validation accuracy: 0.5625\n",
      "Epoch 7 loss: 36.17842483520508\n",
      "Epoch 7 Validation accuracy: 0.5625\n",
      "Epoch 8 loss: 35.982330322265625\n",
      "Epoch 8 Validation accuracy: 0.5625\n",
      "Epoch 9 loss: 35.8914680480957\n",
      "Epoch 9 Validation accuracy: 0.5625\n",
      "Epoch 10 loss: 35.861602783203125\n",
      "Epoch 10 Validation accuracy: 0.5625\n",
      "Epoch 11 loss: 35.86212921142578\n",
      "Epoch 11 Validation accuracy: 0.5625\n",
      "Epoch 12 loss: 35.87543869018555\n",
      "Epoch 12 Validation accuracy: 0.5625\n",
      "Epoch 13 loss: 35.89324951171875\n",
      "Epoch 13 Validation accuracy: 0.5625\n",
      "Epoch 14 loss: 35.91067886352539\n",
      "Epoch 14 Validation accuracy: 0.5625\n",
      "Epoch 15 loss: 35.92604446411133\n",
      "Epoch 15 Validation accuracy: 0.5625\n",
      "Epoch 16 loss: 35.93891525268555\n",
      "Epoch 16 Validation accuracy: 0.5625\n",
      "Epoch 17 loss: 35.949344635009766\n",
      "Epoch 17 Validation accuracy: 0.5625\n",
      "Epoch 18 loss: 35.9575080871582\n",
      "Epoch 18 Validation accuracy: 0.5625\n",
      "Epoch 19 loss: 35.963714599609375\n",
      "Epoch 19 Validation accuracy: 0.5625\n",
      "Epoch 20 loss: 35.96826934814453\n",
      "Epoch 20 Validation accuracy: 0.5625\n",
      "Epoch 21 loss: 35.97142791748047\n",
      "Epoch 21 Validation accuracy: 0.5625\n",
      "Epoch 22 loss: 35.97331619262695\n",
      "Epoch 22 Validation accuracy: 0.5625\n",
      "Epoch 23 loss: 35.974063873291016\n",
      "Epoch 23 Validation accuracy: 0.5625\n",
      "Epoch 24 loss: 35.97380828857422\n",
      "Epoch 24 Validation accuracy: 0.5625\n",
      "Epoch 25 loss: 35.97255325317383\n",
      "Epoch 25 Validation accuracy: 0.5625\n",
      "Epoch 26 loss: 35.97031784057617\n",
      "Epoch 26 Validation accuracy: 0.5625\n",
      "Epoch 27 loss: 35.96706008911133\n",
      "Epoch 27 Validation accuracy: 0.5625\n",
      "Epoch 28 loss: 35.96271896362305\n",
      "Epoch 28 Validation accuracy: 0.5625\n",
      "Epoch 29 loss: 35.957176208496094\n",
      "Epoch 29 Validation accuracy: 0.5625\n",
      "Epoch 30 loss: 35.95022964477539\n",
      "Epoch 30 Validation accuracy: 0.5625\n",
      "Epoch 31 loss: 35.941707611083984\n",
      "Epoch 31 Validation accuracy: 0.5625\n",
      "Epoch 32 loss: 35.93131637573242\n",
      "Epoch 32 Validation accuracy: 0.5625\n",
      "Epoch 33 loss: 35.918678283691406\n",
      "Epoch 33 Validation accuracy: 0.5625\n",
      "Epoch 34 loss: 35.90337371826172\n",
      "Epoch 34 Validation accuracy: 0.5625\n",
      "Epoch 35 loss: 35.884979248046875\n",
      "Epoch 35 Validation accuracy: 0.5625\n",
      "Epoch 36 loss: 35.863189697265625\n",
      "Epoch 36 Validation accuracy: 0.5625\n",
      "Epoch 37 loss: 35.837684631347656\n",
      "Epoch 37 Validation accuracy: 0.5625\n",
      "Epoch 38 loss: 35.808353424072266\n",
      "Epoch 38 Validation accuracy: 0.5625\n",
      "Epoch 39 loss: 35.776126861572266\n",
      "Epoch 39 Validation accuracy: 0.5625\n",
      "Epoch 40 loss: 35.743309020996094\n",
      "Epoch 40 Validation accuracy: 0.5625\n",
      "Epoch 41 loss: 35.71380615234375\n",
      "Epoch 41 Validation accuracy: 0.5625\n",
      "Epoch 42 loss: 35.691314697265625\n",
      "Epoch 42 Validation accuracy: 0.5625\n",
      "Epoch 43 loss: 35.67386245727539\n",
      "Epoch 43 Validation accuracy: 0.5625\n",
      "Epoch 44 loss: 35.649879455566406\n",
      "Epoch 44 Validation accuracy: 0.5625\n",
      "Epoch 45 loss: 35.607601165771484\n",
      "Epoch 45 Validation accuracy: 0.5625\n",
      "Epoch 46 loss: 35.54794692993164\n",
      "Epoch 46 Validation accuracy: 0.5625\n",
      "Epoch 47 loss: 35.47976303100586\n",
      "Epoch 47 Validation accuracy: 0.5625\n",
      "Epoch 48 loss: 35.408973693847656\n",
      "Epoch 48 Validation accuracy: 0.5625\n",
      "Epoch 49 loss: 35.33806228637695\n",
      "Epoch 49 Validation accuracy: 0.5625\n",
      "Test accuracy: 0.75\n"
     ]
    }
   ],
   "source": [
    "num_epochs = 50\n",
    "for epoch in range(num_epochs):\n",
    "    model.train()\n",
    "    optimizer.zero_grad()\n",
    "    loss = 0\n",
    "    for x_1, incidence_1, y in zip(x_1_train, incidence_1_train, y_train):\n",
    "        output = model(x_1, incidence_1)\n",
    "        loss += crit(output.unsqueeze(0), torch.tensor([y]))\n",
    "    loss.backward()\n",
    "    optimizer.step()\n",
    "    print(f\"Epoch {epoch} loss: {loss.item()}\")\n",
    "    model.eval()\n",
    "    with torch.no_grad():\n",
    "        correct = 0\n",
    "        for x_1, incidence_1, y in zip(x_1_val, incidence_1_val, y_val):\n",
    "            output = model(x_1, incidence_1)\n",
    "            pred = torch.argmax(output)\n",
    "            if pred == y:\n",
    "                correct += 1\n",
    "        print(f\"Epoch {epoch} Validation accuracy: {correct / len(y_val)}\")\n",
    "\n",
    "model.eval()\n",
    "with torch.no_grad():\n",
    "    correct = 0\n",
    "    for x_1, incidence_1, y in zip(x_1_test, incidence_1_test, y_test):\n",
    "        output = model(x_1, incidence_1)\n",
    "        pred = torch.argmax(output)\n",
    "        if pred == y:\n",
    "            correct += 1\n",
    "    print(f\"Test accuracy: {correct / len(y_test)}\")"
   ]
  }
 ],
 "metadata": {
  "kernelspec": {
   "display_name": "Python 3 (ipykernel)",
   "language": "python",
   "name": "python3"
  },
  "language_info": {
   "codemirror_mode": {
    "name": "ipython",
    "version": 3
   },
   "file_extension": ".py",
   "mimetype": "text/x-python",
   "name": "python",
   "nbconvert_exporter": "python",
   "pygments_lexer": "ipython3",
   "version": "3.11.3"
  }
 },
 "nbformat": 4,
 "nbformat_minor": 4
}
