{
 "cells": [
  {
   "cell_type": "code",
   "execution_count": 1,
   "metadata": {},
   "outputs": [],
   "source": [
    "import torch\n",
    "import numpy as np\n",
    "from sklearn.model_selection import train_test_split\n",
    "from torch_geometric.datasets import TUDataset\n",
    "from torch_geometric.utils.convert import to_networkx\n",
    "from toponetx.classes.simplicial_complex import SimplicialComplex\n",
    "from topomodelx.nn.hypergraph.unigin_layer import UniGINLayer\n",
    "from topomodelx.nn.hypergraph.unigin import UniGIN"
   ]
  },
  {
   "cell_type": "markdown",
   "metadata": {},
   "source": [
    "# Train a UNIGIN TNN"
   ]
  },
  {
   "cell_type": "markdown",
   "metadata": {},
   "source": [
    "# Train a UNIGIN TNN"
   ]
  },
  {
   "attachments": {},
   "cell_type": "markdown",
   "metadata": {},
   "source": [
    "# Pre-processing\n",
    "\n",
    "## Import data ##\n",
    "\n",
    "The first step is to import the dataset, MUTAG, a benchmark dataset for graph classification. We then lift each graph into our domain of choice, a hypergraph.\n",
    "\n",
    "We will also retrieve:\n",
    "- input signal on the nodes for each of these hypergraphs, as that will be what we feed the model in input\n",
    "- the binary label associated to the hypergraph"
   ]
  },
  {
   "cell_type": "code",
   "execution_count": 5,
   "metadata": {},
   "outputs": [],
   "source": [
    "dataset = TUDataset(root=\"/tmp/MUTAG\", name=\"MUTAG\", use_edge_attr=True)\n",
    "dataset = dataset[:100]\n",
    "hg_list = []\n",
    "x_1_list = []\n",
    "y_list = []\n",
    "for graph in dataset:\n",
    "    hg = SimplicialComplex(to_networkx(graph)).to_hypergraph()\n",
    "    hg_list.append(hg)\n",
    "    x_1_list.append(graph.x)\n",
    "    y_list.append(int(graph.y))\n",
    "\n",
    "incidence_1_list = []\n",
    "for hg in hg_list:\n",
    "    incidence_1 = hg.incidence_matrix()\n",
    "    incidence_1 = torch.from_numpy(incidence_1.todense()).to_sparse()\n",
    "    incidence_1_list.append(incidence_1)"
   ]
  },
  {
   "cell_type": "markdown",
   "metadata": {},
   "source": [
    "# Train the Neural Network\n",
    "\n",
    "We specify the model, the loss, and an optimizer."
   ]
  },
  {
   "cell_type": "code",
   "execution_count": 7,
   "metadata": {},
   "outputs": [],
   "source": [
    "node_dim = x_1_list[0].shape[1]\n",
    "intermediate_channels = 32\n",
    "out_dim = 2"
   ]
  },
  {
   "cell_type": "code",
   "execution_count": 8,
   "metadata": {},
   "outputs": [],
   "source": [
    "model = UniGIN(\n",
    "    in_channels_node=node_dim,\n",
    "    intermediate_channels=intermediate_channels,\n",
    "    out_channels=out_dim,\n",
    "    n_layers=2,\n",
    ")\n",
    "optimizer = torch.optim.Adam(model.parameters(), lr=0.001)\n",
    "crit = torch.nn.CrossEntropyLoss()"
   ]
  },
  {
   "cell_type": "markdown",
   "metadata": {},
   "source": [
    "Split the dataset into train, val and test sets."
   ]
  },
  {
   "cell_type": "code",
   "execution_count": 9,
   "metadata": {},
   "outputs": [],
   "source": [
    "x_1_train, x_1_test = train_test_split(x_1_list, test_size=0.2, shuffle=False)\n",
    "incidence_1_train, incidence_1_test = train_test_split(\n",
    "    incidence_1_list, test_size=0.2, shuffle=False\n",
    ")\n",
    "y_train, y_test = train_test_split(y_list, test_size=0.2, shuffle=False)\n",
    "\n",
    "x_1_train, x_1_val = train_test_split(x_1_train, test_size=0.2, shuffle=False)\n",
    "incidence_1_train, incidence_1_val = train_test_split(\n",
    "    incidence_1_train, test_size=0.2, shuffle=False\n",
    ")\n",
    "y_train, y_val = train_test_split(y_train, test_size=0.2, shuffle=False)"
   ]
  },
  {
   "cell_type": "markdown",
   "metadata": {},
   "source": [
    "The below cell trains the model for 50 epochs printing the train loss, and validation accuracy after every epoch. The model is then evaluated on a seperate test-set after training."
   ]
  },
  {
   "cell_type": "code",
   "execution_count": 10,
   "metadata": {},
   "outputs": [
    {
     "name": "stdout",
     "output_type": "stream",
     "text": [
      "Epoch 0 loss: 43.3916015625\n",
      "Epoch 0 Validation accuracy: 0.5625\n",
      "Epoch 1 loss: 41.91788864135742\n",
      "Epoch 1 Validation accuracy: 0.5625\n",
      "Epoch 2 loss: 40.573387145996094\n",
      "Epoch 2 Validation accuracy: 0.5625\n",
      "Epoch 3 loss: 39.32501220703125\n",
      "Epoch 3 Validation accuracy: 0.5625\n",
      "Epoch 4 loss: 38.29070281982422\n",
      "Epoch 4 Validation accuracy: 0.5625\n",
      "Epoch 5 loss: 37.48554229736328\n",
      "Epoch 5 Validation accuracy: 0.5625\n",
      "Epoch 6 loss: 36.905006408691406\n",
      "Epoch 6 Validation accuracy: 0.5625\n",
      "Epoch 7 loss: 36.502838134765625\n",
      "Epoch 7 Validation accuracy: 0.5625\n",
      "Epoch 8 loss: 36.23980712890625\n",
      "Epoch 8 Validation accuracy: 0.5625\n",
      "Epoch 9 loss: 36.084415435791016\n",
      "Epoch 9 Validation accuracy: 0.5625\n",
      "Epoch 10 loss: 36.003536224365234\n",
      "Epoch 10 Validation accuracy: 0.5625\n",
      "Epoch 11 loss: 35.96804428100586\n",
      "Epoch 11 Validation accuracy: 0.5625\n",
      "Epoch 12 loss: 35.95846939086914\n",
      "Epoch 12 Validation accuracy: 0.5625\n",
      "Epoch 13 loss: 35.9611930847168\n",
      "Epoch 13 Validation accuracy: 0.5625\n",
      "Epoch 14 loss: 35.96879196166992\n",
      "Epoch 14 Validation accuracy: 0.5625\n",
      "Epoch 15 loss: 35.977806091308594\n",
      "Epoch 15 Validation accuracy: 0.5625\n",
      "Epoch 16 loss: 35.98638916015625\n",
      "Epoch 16 Validation accuracy: 0.5625\n",
      "Epoch 17 loss: 35.99394989013672\n",
      "Epoch 17 Validation accuracy: 0.5625\n",
      "Epoch 18 loss: 36.00029754638672\n",
      "Epoch 18 Validation accuracy: 0.5625\n",
      "Epoch 19 loss: 36.00556945800781\n",
      "Epoch 19 Validation accuracy: 0.5625\n",
      "Epoch 20 loss: 36.00981521606445\n",
      "Epoch 20 Validation accuracy: 0.5625\n",
      "Epoch 21 loss: 36.01326370239258\n",
      "Epoch 21 Validation accuracy: 0.5625\n",
      "Epoch 22 loss: 36.01602554321289\n",
      "Epoch 22 Validation accuracy: 0.5625\n",
      "Epoch 23 loss: 36.018226623535156\n",
      "Epoch 23 Validation accuracy: 0.5625\n",
      "Epoch 24 loss: 36.01999282836914\n",
      "Epoch 24 Validation accuracy: 0.5625\n",
      "Epoch 25 loss: 36.0213737487793\n",
      "Epoch 25 Validation accuracy: 0.5625\n",
      "Epoch 26 loss: 36.02241897583008\n",
      "Epoch 26 Validation accuracy: 0.5625\n",
      "Epoch 27 loss: 36.02317810058594\n",
      "Epoch 27 Validation accuracy: 0.5625\n",
      "Epoch 28 loss: 36.023704528808594\n",
      "Epoch 28 Validation accuracy: 0.5625\n",
      "Epoch 29 loss: 36.02401351928711\n",
      "Epoch 29 Validation accuracy: 0.5625\n",
      "Epoch 30 loss: 36.02414321899414\n",
      "Epoch 30 Validation accuracy: 0.5625\n",
      "Epoch 31 loss: 36.024078369140625\n",
      "Epoch 31 Validation accuracy: 0.5625\n",
      "Epoch 32 loss: 36.023826599121094\n",
      "Epoch 32 Validation accuracy: 0.5625\n",
      "Epoch 33 loss: 36.02338790893555\n",
      "Epoch 33 Validation accuracy: 0.5625\n",
      "Epoch 34 loss: 36.02278137207031\n",
      "Epoch 34 Validation accuracy: 0.5625\n",
      "Epoch 35 loss: 36.021995544433594\n",
      "Epoch 35 Validation accuracy: 0.5625\n",
      "Epoch 36 loss: 36.02100372314453\n",
      "Epoch 36 Validation accuracy: 0.5625\n",
      "Epoch 37 loss: 36.019805908203125\n",
      "Epoch 37 Validation accuracy: 0.5625\n",
      "Epoch 38 loss: 36.018394470214844\n",
      "Epoch 38 Validation accuracy: 0.5625\n",
      "Epoch 39 loss: 36.01671600341797\n",
      "Epoch 39 Validation accuracy: 0.5625\n",
      "Epoch 40 loss: 36.0147590637207\n",
      "Epoch 40 Validation accuracy: 0.5625\n",
      "Epoch 41 loss: 36.01249313354492\n",
      "Epoch 41 Validation accuracy: 0.5625\n",
      "Epoch 42 loss: 36.00986862182617\n",
      "Epoch 42 Validation accuracy: 0.5625\n",
      "Epoch 43 loss: 36.0068359375\n",
      "Epoch 43 Validation accuracy: 0.5625\n",
      "Epoch 44 loss: 36.003334045410156\n",
      "Epoch 44 Validation accuracy: 0.5625\n",
      "Epoch 45 loss: 35.999298095703125\n",
      "Epoch 45 Validation accuracy: 0.5625\n",
      "Epoch 46 loss: 35.99464416503906\n",
      "Epoch 46 Validation accuracy: 0.5625\n",
      "Epoch 47 loss: 35.98926544189453\n",
      "Epoch 47 Validation accuracy: 0.5625\n",
      "Epoch 48 loss: 35.98302459716797\n",
      "Epoch 48 Validation accuracy: 0.5625\n",
      "Epoch 49 loss: 35.975791931152344\n",
      "Epoch 49 Validation accuracy: 0.5625\n",
      "Test accuracy: 0.75\n"
     ]
    }
   ],
   "source": [
    "num_epochs = 50\n",
    "for epoch in range(num_epochs):\n",
    "    model.train()\n",
    "    optimizer.zero_grad()\n",
    "    loss = 0\n",
    "    for x_1, incidence_1, y in zip(x_1_train, incidence_1_train, y_train):\n",
    "        output = model(x_1, incidence_1)\n",
    "        loss += crit(output.unsqueeze(0), torch.tensor([y]))\n",
    "    loss.backward()\n",
    "    optimizer.step()\n",
    "    print(f\"Epoch {epoch} loss: {loss.item()}\")\n",
    "    model.eval()\n",
    "    with torch.no_grad():\n",
    "        correct = 0\n",
    "        for x_1, incidence_1, y in zip(x_1_val, incidence_1_val, y_val):\n",
    "            output = model(x_1, incidence_1)\n",
    "            pred = torch.argmax(output)\n",
    "            if pred == y:\n",
    "                correct += 1\n",
    "        print(f\"Epoch {epoch} Validation accuracy: {correct / len(y_val)}\")\n",
    "\n",
    "model.eval()\n",
    "with torch.no_grad():\n",
    "    correct = 0\n",
    "    for x_1, incidence_1, y in zip(x_1_test, incidence_1_test, y_test):\n",
    "        output = model(x_1, incidence_1)\n",
    "        pred = torch.argmax(output)\n",
    "        if pred == y:\n",
    "            correct += 1\n",
    "    print(f\"Test accuracy: {correct / len(y_test)}\")"
   ]
  },
  {
   "cell_type": "code",
   "execution_count": null,
   "metadata": {},
   "outputs": [],
   "source": []
  },
  {
   "cell_type": "code",
   "execution_count": null,
   "metadata": {},
   "outputs": [],
   "source": []
  }
 ],
 "metadata": {
  "kernelspec": {
   "display_name": "Python 3 (ipykernel)",
   "language": "python",
   "name": "python3"
  },
  "language_info": {
   "codemirror_mode": {
    "name": "ipython",
    "version": 3
   },
   "file_extension": ".py",
   "mimetype": "text/x-python",
   "name": "python",
   "nbconvert_exporter": "python",
   "pygments_lexer": "ipython3",
   "version": "3.10.9"
  }
 },
 "nbformat": 4,
 "nbformat_minor": 4
}
