{
 "cells": [
  {
   "attachments": {},
   "cell_type": "markdown",
   "metadata": {},
   "source": [
    "# Train a Simplicial Neural Network (SNN)\n",
    "\n",
    "In this notebook, we will create and train a Simplicial Neural Network, as proposed in the paper by [Ebli et. al : Simplicial Neural Networks (2020)](https://arxiv.org/abs/2010.03633). \n",
    "\n",
    "We train the model to perform regression on citation count on a coauthorship dataset \n",
    "\n",
    "The equations of one layer of this neural network are given by:\n",
    "\n",
    "\n",
    "🟥 $\\quad m_{y \\rightarrow x}^{p, (d \\rightarrow d)}  = ((H_{d})^p)\\_{xy} \\cdot h_y^{t,(d)} \\cdot \\Theta^{t,p}$\n",
    "\n",
    "🟧 $\\quad m_{x}^{p, (d \\rightarrow d)}  = \\sum_{y \\in (\\mathcal{L}\\_\\uparrow + \\mathcal{L}\\_\\downarrow)(x)} m_{y \\rightarrow x}^{p, (d \\rightarrow d)}$\n",
    "\n",
    "🟧 $\\quad m_x^{(d \\rightarrow d)}  = \\sum_{p=1}^{P_1} (m_{x}^{p,(d \\rightarrow d)})^{p}$\n",
    "\n",
    "🟩 $\\quad m_x^{(d)}  = m_x^{(d \\rightarrow d)}$\n",
    "\n",
    "🟦 $\\quad h_x^{t+1, (d)}  = \\sigma (m_{x}^{(d)})$\n",
    "\n",
    "\n",
    "Where the notations are defined in [Papillon et al : Architectures of Topological Deep Learning: A Survey of Topological Neural Networks (2023)](https://arxiv.org/abs/2304.10031).\n",
    "\n",
    "Note that since the forward function is defined separately for each simplicial degree, a layer is created for a particular simplicial degree $d$ as in the equations above. Depending on the problem, multiple layers may be created and combined in a neural network architecture."
   ]
  },
  {
   "cell_type": "code",
   "execution_count": 1,
   "metadata": {},
   "outputs": [],
   "source": [
    "import torch\n",
    "import numpy as np\n",
    "from matplotlib import pyplot as plt\n",
    "from torch_geometric.utils.convert import to_networkx\n",
    "from topomodelx.nn.simplicial.snn_layer import SNNLayer\n",
    "import toponetx.datasets as datasets"
   ]
  },
  {
   "attachments": {},
   "cell_type": "markdown",
   "metadata": {},
   "source": [
    "## Load and process the dataset\n",
    "\n",
    "Load the coauthorship network from [Ebli et. al : Simplicial Neural Networks (2020)](https://arxiv.org/abs/2010.03633) as a simplicial complex.\n",
    "\n",
    "The coauthorship network is a simplicial complex where a paper with k authors is represented by a (k-1)-simplex.\n",
    "\n",
    "The dataset is pre-processed as in the original paper. From the Semantic Scholar Open Research Corpus 80 papers with number of citations between 5 and 10 were sampled.\n",
    "The papers constitute simplices in the complex, which is completed with subsimplices (seen as collaborations between subsets of authors) to form a simplicial complex.\n",
    "\n",
    "An attribute named \"citations\" is added to each simplex, corresponding to the sum of citations of all papers on which the authors represented by the simplex collaborated. This will be used as feature and target in our regression problem.\n",
    "\n",
    "The resulting simplicial complex is of dimension 10 and contains 24552 simplices in total. See the original paper for a more detailed description of the dataset."
   ]
  },
  {
   "cell_type": "code",
   "execution_count": 2,
   "metadata": {},
   "outputs": [],
   "source": [
    "sc = datasets.graph.coauthorship()"
   ]
  },
  {
   "cell_type": "code",
   "execution_count": 3,
   "metadata": {},
   "outputs": [
    {
     "name": "stdout",
     "output_type": "stream",
     "text": [
      "Total number of simplices: 24552\n"
     ]
    }
   ],
   "source": [
    "print(\"Total number of simplices:\", sum([len(sc.skeleton(i)) for i in range(sc.dim+1)]))"
   ]
  },
  {
   "attachments": {},
   "cell_type": "markdown",
   "metadata": {},
   "source": [
    "Below we mask the features (number of citations for each simplex, for each degree), similar to the way it is done in the original paper.\n",
    "\n",
    "For each simplicial degree, *ratio_mask* simplices will be masked:\n",
    "- At training time they will be replaced by the median value for the feature and will not be included when computing the loss.\n",
    "- At test time on the other hand, these are the simplices for which test loss and accuracy are computed."
   ]
  },
  {
   "cell_type": "code",
   "execution_count": 4,
   "metadata": {},
   "outputs": [],
   "source": [
    "ratio_mask = 0.15"
   ]
  },
  {
   "cell_type": "code",
   "execution_count": 5,
   "metadata": {},
   "outputs": [],
   "source": [
    "features_target = {}\n",
    "for i in range(sc.dim+1):\n",
    "    features_target[i] = np.array(list(sc.get_simplex_attributes(name=\"citations\", rank=i).values()))\n",
    "\n",
    "masks_train = {}\n",
    "masks_test = {}\n",
    "features_input = {}\n",
    "\n",
    "for i in range(len(features_target)):\n",
    "    masks_test[i] = np.random.choice(range(features_target[i].shape[0]), size=int(features_target[i].shape[0]*ratio_mask), replace=False)\n",
    "    masks_train[i] = list(set(range(features_target[i].shape[0])).difference(set(masks_test[i])))\n",
    "    features_input[i] = features_target[i].copy()\n",
    "    features_input[i][masks_test[i]] = np.median(features_target[i])\n",
    "\n"
   ]
  },
  {
   "attachments": {},
   "cell_type": "markdown",
   "metadata": {},
   "source": [
    "## Define neighborhood structures. ##\n",
    "\n",
    "For the Simplicial Neural Network we will use the (normalized) Simplician Laplacian matrix.\n",
    "\n",
    "We can define the simplicial degree (rank) for which we want to run the regression problem below (since we have features on all simplicial degrees). Note that when changing the rank we get different dimension for the Laplacian matrix and the feature vector, which may lead to longer training time, and the network might need to be tuned differently."
   ]
  },
  {
   "cell_type": "code",
   "execution_count": 6,
   "metadata": {},
   "outputs": [],
   "source": [
    "rank = 0"
   ]
  },
  {
   "cell_type": "code",
   "execution_count": 7,
   "metadata": {},
   "outputs": [],
   "source": [
    "lapl = sc.normalized_laplacian_matrix(rank=rank)\n",
    "\n",
    "lapl = torch.from_numpy(lapl.todense()).to_sparse()"
   ]
  },
  {
   "cell_type": "code",
   "execution_count": 8,
   "metadata": {},
   "outputs": [
    {
     "data": {
      "text/plain": [
       "torch.Size([352, 352])"
      ]
     },
     "execution_count": 8,
     "metadata": {},
     "output_type": "execute_result"
    }
   ],
   "source": [
    "lapl.shape"
   ]
  },
  {
   "cell_type": "code",
   "execution_count": 9,
   "metadata": {},
   "outputs": [
    {
     "name": "stdout",
     "output_type": "stream",
     "text": [
      "torch.Size([352, 1])\n"
     ]
    }
   ],
   "source": [
    "x_nodes = torch.from_numpy(features_input[rank].reshape(-1, 1)).float()\n",
    "y_nodes = torch.from_numpy(features_target[rank].reshape(-1, 1)).float()\n",
    "print(x_nodes.shape)\n",
    "channels_nodes = x_nodes.shape[1]"
   ]
  },
  {
   "attachments": {},
   "cell_type": "markdown",
   "metadata": {},
   "source": [
    "# Create the Neural Network\n",
    "\n"
   ]
  },
  {
   "cell_type": "code",
   "execution_count": 10,
   "metadata": {},
   "outputs": [],
   "source": [
    "class SNN(torch.nn.Module):\n",
    "    \"\"\"Simplicial Neural Network Implementation for binary node classification.\n",
    "\n",
    "    Parameters\n",
    "    ---------\n",
    "    channels : int\n",
    "        Dimension of features\n",
    "    n_layers : int\n",
    "        Amount of message passing layers.\n",
    "\n",
    "    \"\"\"\n",
    "\n",
    "    def __init__(self, in_channels, out_channels, hidden_channels, K=5):\n",
    "        super().__init__()\n",
    "        layers = torch.nn.ModuleList()\n",
    "\n",
    "        layers.append(SNNLayer(in_channels=in_channels, out_channels=hidden_channels, K=K))\n",
    "        layers.append(SNNLayer(in_channels=hidden_channels, out_channels=hidden_channels, K=K))\n",
    "        layers.append(SNNLayer(in_channels=hidden_channels, out_channels=out_channels, K=K))\n",
    "\n",
    "        self.linear = torch.nn.Linear(out_channels, 1)\n",
    "        self.layers = layers\n",
    "\n",
    "    def forward(self, x, lapl):\n",
    "        \"\"\"Forward computation.\n",
    "\n",
    "        Parameters\n",
    "        ---------\n",
    "        x : tensor\n",
    "            shape = [n_simplices, channels]\n",
    "            Node features.\n",
    "\n",
    "        lapl : tensor\n",
    "            shape = [n_simplices, n_simplices]\n",
    "            Laplacian for the given rank\n",
    "\n",
    "\n",
    "        Returns\n",
    "        --------\n",
    "        _ : tensor\n",
    "            shape = [n_simplices, channels]\n",
    "            \n",
    "\n",
    "        \"\"\"\n",
    "        for layer in self.layers:\n",
    "            x = layer(x, lapl)\n",
    "        return self.linear(x)"
   ]
  },
  {
   "attachments": {},
   "cell_type": "markdown",
   "metadata": {},
   "source": [
    "# Train the Neural Network\n",
    "\n",
    "We specify the model with our pre-made neighborhood structures and specify an optimizer."
   ]
  },
  {
   "cell_type": "code",
   "execution_count": 11,
   "metadata": {},
   "outputs": [],
   "source": [
    "model = SNN(\n",
    "    in_channels=channels_nodes,\n",
    "    out_channels=channels_nodes,\n",
    "    hidden_channels=30,\n",
    "    K=5\n",
    ")\n",
    "optimizer = torch.optim.Adam(model.parameters(), lr=0.01)"
   ]
  },
  {
   "cell_type": "code",
   "execution_count": 12,
   "metadata": {},
   "outputs": [
    {
     "name": "stdout",
     "output_type": "stream",
     "text": [
      "Parameter counts:\n",
      "Total number of parameters: 4802\n"
     ]
    }
   ],
   "source": [
    "num_params = 0\n",
    "print(\"Parameter counts:\")\n",
    "for param in model.parameters():\n",
    "    p = np.array(param.shape, dtype=int).prod()\n",
    "    num_params += p\n",
    "print(\"Total number of parameters: %d\" %(num_params))"
   ]
  },
  {
   "attachments": {},
   "cell_type": "markdown",
   "metadata": {},
   "source": [
    "The following cell performs the training, looping over the network for a low number of epochs."
   ]
  },
  {
   "cell_type": "code",
   "execution_count": 13,
   "metadata": {},
   "outputs": [
    {
     "name": "stdout",
     "output_type": "stream",
     "text": [
      "Epoch: 0 loss: 10.8426\n",
      "Epoch: 10 loss: 2.1569\n",
      "Epoch: 20 loss: 1.1768\n",
      "Epoch: 30 loss: 0.8447\n",
      "Epoch: 40 loss: 0.7254\n",
      "Epoch: 50 loss: 1.4321\n",
      "Epoch: 60 loss: 0.5802\n",
      "Epoch: 70 loss: 0.2790\n",
      "Epoch: 80 loss: 0.3477\n",
      "Epoch: 90 loss: 0.5995\n",
      "Epoch: 100 loss: 0.1706\n"
     ]
    }
   ],
   "source": [
    "train_losses = []\n",
    "test_losses = []\n",
    "test_interval = 10\n",
    "num_epochs = 100\n",
    "for epoch_i in range(0, num_epochs + 1):\n",
    "    epoch_loss = []\n",
    "    model.train()\n",
    "    optimizer.zero_grad()\n",
    "\n",
    "    y_hat = model(x_nodes, lapl)\n",
    "    loss = torch.nn.functional.l1_loss(\n",
    "        y_hat[masks_train[rank]], y_nodes[masks_train[rank]], reduction=\"mean\"\n",
    "    )\n",
    "    train_losses.append(loss.detach().numpy())\n",
    "    epoch_loss.append(loss.item())\n",
    "    loss.backward()\n",
    "    optimizer.step()\n",
    "\n",
    "    \n",
    "    if epoch_i % test_interval == 0:\n",
    "        print(\n",
    "            f\"Epoch: {epoch_i} loss: {np.mean(epoch_loss):.4f}\",\n",
    "            flush=True,\n",
    "        )\n",
    "    with torch.no_grad():\n",
    "        loss = torch.nn.functional.l1_loss(y_hat[masks_test[rank]], y_nodes[masks_test[rank]])\n",
    "        test_losses.append(loss)\n"
   ]
  },
  {
   "cell_type": "code",
   "execution_count": 14,
   "metadata": {},
   "outputs": [
    {
     "data": {
      "text/plain": [
       "Text(0.5, 1.0, 'Test set loss')"
      ]
     },
     "execution_count": 14,
     "metadata": {},
     "output_type": "execute_result"
    },
    {
     "data": {
      "image/png": "[encoded data removed]",
      "text/plain": [
       "<Figure size 1000x400 with 2 Axes>"
      ]
     },
     "metadata": {},
     "output_type": "display_data"
    }
   ],
   "source": [
    "plt.figure(figsize=(10,4))\n",
    "plt.subplot(121)\n",
    "plt.plot(train_losses)\n",
    "plt.title(\"Train set loss\")\n",
    "plt.subplot(122)\n",
    "plt.plot(test_losses)\n",
    "plt.title(\"Test set loss\")"
   ]
  },
  {
   "attachments": {},
   "cell_type": "markdown",
   "metadata": {},
   "source": [
    "We can also compute a measure of accuracy for the train and test sets, where a prediction is considered accurate if it deviates at most 10% from the target.\n",
    "\n",
    "Unfortunately the results are not comparable to those in the original paper. When looking at the implementation for the original paper (https://github.com/stefaniaebli/simplicial_neural_networks) a potential problem with the masking was found which could explain the difference (it seems that two masks are used, one for the imputation of the feature and one for the computation of the loss, where we use the same mask)."
   ]
  },
  {
   "cell_type": "code",
   "execution_count": 15,
   "metadata": {},
   "outputs": [
    {
     "name": "stdout",
     "output_type": "stream",
     "text": [
      "Train accuracy:  tensor(100.)\n"
     ]
    }
   ],
   "source": [
    "ground_truth = y_nodes[masks_train[rank]]\n",
    "preds = y_hat[masks_train[rank]]\n",
    "\n",
    "print(\"Train accuracy: \", (torch.abs((preds-ground_truth)/ground_truth)<0.1).sum()/preds.shape[0]*100)"
   ]
  },
  {
   "cell_type": "code",
   "execution_count": 16,
   "metadata": {},
   "outputs": [
    {
     "name": "stdout",
     "output_type": "stream",
     "text": [
      "Test accuracy:  tensor(5.7692)\n"
     ]
    }
   ],
   "source": [
    "ground_truth = y_nodes[masks_test[rank]]\n",
    "preds = y_hat[masks_test[rank]]\n",
    "\n",
    "print(\"Test accuracy: \", (torch.abs((preds-ground_truth)/ground_truth)<0.1).sum()/preds.shape[0]*100)"
   ]
  },
  {
   "cell_type": "code",
   "execution_count": null,
   "metadata": {},
   "outputs": [],
   "source": []
  }
 ],
 "metadata": {
  "kernelspec": {
   "display_name": "Python 3 (ipykernel)",
   "language": "python",
   "name": "python3"
  },
  "language_info": {
   "codemirror_mode": {
    "name": "ipython",
    "version": 3
   },
   "file_extension": ".py",
   "mimetype": "text/x-python",
   "name": "python",
   "nbconvert_exporter": "python",
   "pygments_lexer": "ipython3",
   "version": "3.11.3"
  }
 },
 "nbformat": 4,
 "nbformat_minor": 2
}
